{
 "cells": [
  {
   "cell_type": "markdown",
   "metadata": {},
   "source": [
    "## Ejercicio 1: Utilizar operadores aritméticos\n",
    "\n",
    "Operadores aritméticos en Python\n",
    "\n",
    "Python proporciona operadores aritméticos comunes para que puedas realizar operaciones matemáticas en tu código. Estos incluyen las cuatro operaciones principales de suma, resta, multiplicación y división.\n",
    "\n",
    "Exploremos cómo podemos crear un programa que pueda calcular la distancia entre dos planetas. Comenzaremos usando dos distancias de planetas: Tierra (149.597.870 km) y Júpiter (778.547.200 km)."
   ]
  },
  {
   "cell_type": "code",
   "execution_count": null,
   "metadata": {},
   "outputs": [],
   "source": [
    "# Crear variables para almacenar las dos distancias\n",
    "\n",
    "earth= 149597870 #data in Km\n",
    "jupiter= 778547200 #data in Km\n",
    "\n",
    "# Calcular la distancia entre planetas\n",
    "\n",
    "distance= jupiter-earth\n",
    "print(distance)\n",
    "\n",
    "# Calcular la distancia entre planetas en millas\n",
    "\n",
    "from math import ceil, floor\n",
    "\n",
    "distanceM= distance*0.621\n",
    "print(ceil (distanceM))\n"
   ]
  },
  {
   "cell_type": "markdown",
   "metadata": {},
   "source": [
    "## Ejercicio 2: convierte cadenas en números y usa valores absolutos\n",
    "Crear una aplicación para trabajar con números y entrada de usuario\n",
    "Con frecuencia, deberás convertir los valores de cadena en números para realizar correctamente diferentes operaciones o determinar el valor absoluto de un número.\n",
    "\n",
    "Para crear nuestra aplicación, queremos leer la distancia del sol para dos planetas, y luego mostrar la distancia entre los planetas. Haremos esto usando input para leer los valores, int para convertir a entero y luego abs para convertir el resultado en su valor absoluto.\n",
    "\n",
    "Lee los valores\n",
    "\n",
    "Usando input, agrega el código para leer la distancia del sol para cada planeta, considerando 2 planetas."
   ]
  },
  {
   "cell_type": "code",
   "execution_count": 13,
   "metadata": {},
   "outputs": [
    {
     "name": "stdout",
     "output_type": "stream",
     "text": [
      "628949330\n",
      "390577533.93\n"
     ]
    }
   ],
   "source": [
    "# Almacenar las entradas del usuario\n",
    "\n",
    "planet1= input(\"Introduce la distancia del primer planeta\")\n",
    "planet2= input(\"Introduce la distancia del segundo planeta\")\n",
    "\n",
    "# Convierte las cadenas de ambos planetas a números enteros\n",
    "planet1= int(planet1)\n",
    "planet2= int(planet2)\n",
    "\n",
    "# Realizar el cálculo y determinar el valor absoluto\n",
    "distancekm= planet1-planet2\n",
    "print(abs(distancekm))\n",
    "\n",
    "distancemi= distancekm*0.621\n",
    "print(abs(distancemi))"
   ]
  }
 ],
 "metadata": {
  "interpreter": {
   "hash": "df932948d3ccc9c4f58c0e3243a4b43d34530eccd0b241d87f31d246d5187ac2"
  },
  "kernelspec": {
   "display_name": "Python 3.10.2 64-bit",
   "language": "python",
   "name": "python3"
  },
  "language_info": {
   "codemirror_mode": {
    "name": "ipython",
    "version": 3
   },
   "file_extension": ".py",
   "mimetype": "text/x-python",
   "name": "python",
   "nbconvert_exporter": "python",
   "pygments_lexer": "ipython3",
   "version": "3.10.2"
  },
  "orig_nbformat": 4
 },
 "nbformat": 4,
 "nbformat_minor": 2
}
